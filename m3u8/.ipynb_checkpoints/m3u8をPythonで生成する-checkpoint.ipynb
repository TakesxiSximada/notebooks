{
 "cells": [
  {
   "cell_type": "markdown",
   "metadata": {},
   "source": [
    "# m3u8\n",
    "\n",
    "HLS形式動画のプレイリストのファイル形式です。\n"
   ]
  },
  {
   "cell_type": "markdown",
   "metadata": {},
   "source": [
    "## HLS \n",
    "\n",
    "HLS (HTTP Live Streaming) は動画のストリーミング配信のプロトコルです。\n",
    "HLSで動画を配信するときに関連するファイルは3つあります。\n",
    "\n",
    "| 種類 | 拡張子 | 内容 |\n",
    "|:-----------|------------:|:------------:|\n",
    "| tsファイル | ts | 実際の動画データ |\n",
    "| プレイリスト | m3u8 | 動画データをどの順番に再生すれば良いかなどの動画のメタデータを保持する |\n",
    "| 鍵 | 特になし | tsファイルを暗号化している場合、複合化する鍵のバイナリデータ |\n"
   ]
  },
  {
   "cell_type": "markdown",
   "metadata": {},
   "source": [
    "## m3u8ファイル\n",
    "\n",
    "m3u8ファイルは動画のメタデータなどを保持するためのファイルです。\n",
    "HLSの動画は分割されていますのでどこのURLの動画をどの順番に再生するのかという情報などを持っています。\n",
    "\n",
    "以下がm3u8ファイルです。\n",
    "\n",
    "```\n",
    "#EXTM3U\n",
    "#EXT-X-STREAM-INF:PROGRAM-ID=1, BANDWIDTH=200000\n",
    "movie_1.m3u8\n",
    "#EXT-X-STREAM-INF:PROGRAM-ID=1, BANDWIDTH=311111\n",
    "movie_2.m3u8\n",
    "#EXT-X-STREAM-INF:PROGRAM-ID=1, BANDWIDTH=484444\n",
    "movie_3.m3u8\n",
    "#EXT-X-STREAM-INF:PROGRAM-ID=1, BANDWIDTH=737777\n",
    "movie_4.m3u8\n",
    "```"
   ]
  },
  {
   "cell_type": "code",
   "execution_count": 3,
   "metadata": {
    "collapsed": true
   },
   "outputs": [],
   "source": [
    "import m3u8"
   ]
  },
  {
   "cell_type": "code",
   "execution_count": 4,
   "metadata": {
    "collapsed": true
   },
   "outputs": [],
   "source": [
    "playlist = m3u8.M3U8()"
   ]
  },
  {
   "cell_type": "code",
   "execution_count": 7,
   "metadata": {
    "collapsed": false
   },
   "outputs": [
    {
     "name": "stdout",
     "output_type": "stream",
     "text": [
      "#EXTM3U\n",
      "\n"
     ]
    }
   ],
   "source": [
    "print(playlist.dumps())"
   ]
  },
  {
   "cell_type": "code",
   "execution_count": 14,
   "metadata": {
    "collapsed": false
   },
   "outputs": [],
   "source": [
    "segment = m3u8.Segment(base_uri='http://exmpale.com/', uri='1.ts')"
   ]
  },
  {
   "cell_type": "code",
   "execution_count": 17,
   "metadata": {
    "collapsed": false
   },
   "outputs": [],
   "source": [
    "playlist.segments.append(segment)"
   ]
  },
  {
   "cell_type": "code",
   "execution_count": 19,
   "metadata": {
    "collapsed": false
   },
   "outputs": [],
   "source": [
    "segment.duration = 1"
   ]
  },
  {
   "cell_type": "code",
   "execution_count": null,
   "metadata": {
    "collapsed": true
   },
   "outputs": [],
   "source": []
  }
 ],
 "metadata": {
  "kernelspec": {
   "display_name": "Python 3",
   "language": "python",
   "name": "python3"
  },
  "language_info": {
   "codemirror_mode": {
    "name": "ipython",
    "version": 3
   },
   "file_extension": ".py",
   "mimetype": "text/x-python",
   "name": "python",
   "nbconvert_exporter": "python",
   "pygments_lexer": "ipython3",
   "version": "3.5.0"
  }
 },
 "nbformat": 4,
 "nbformat_minor": 0
}
